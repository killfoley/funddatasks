{
 "cells": [
  {
   "cell_type": "markdown",
   "metadata": {},
   "source": [
    "# Tasks 2020\n",
    "### Fundamentals of Data Analysis\n",
    "#### Killian Foley\n",
    "This Notebook contains the scripts for all 4 tasks in the module Fundamentals of Data Analysis.\n",
    "The first task is to write a Python function called counts that takes a list as input and returns a dictionary of unique items in the list as keys and the number of times each item appears as values.\n",
    "### Lists Explained\n",
    "A list can be described as an ordered collection of objects. The order in which a list is defined is important because it is an innate characteristic of that list, and this order is maintained for that list’s lifetime. This also means that lists that have the same elements in a different order are not equal. Lists can contain more than integers, floats and strings. Lists can contain other complex items such as other lists, classes, functions and modules. Elements in a list can be accessed by index. As with accessing characters in a string list indexing is zero-based. [1]\n",
    "see example below"
   ]
  },
  {
   "cell_type": "code",
   "execution_count": 1,
   "metadata": {},
   "outputs": [
    {
     "name": "stdout",
     "output_type": "stream",
     "text": [
      "a\n",
      "d\n",
      "6\n"
     ]
    }
   ],
   "source": [
    "# Create a list to demonstrate list indexing\n",
    "__Example__ = [\"a\",\"b\",\"c\",\"d\",\"e\",\"f\"]\n",
    "print(__Example__[0]) # first element a is expected\n",
    "print(__Example__[3]) # 4th element d is expected\n",
    "print(len(__Example__)) # number or elements in list or length of list"
   ]
  },
  {
   "cell_type": "markdown",
   "metadata": {},
   "source": [
    "### Dictionaries Explained\n",
    "Unlike lists, which are indexed by numbers, dictionaries are indexed by keys, which can be any immutable type; strings and numbers can always be keys. A dictionary is best thought of as a set of key: value pairs, with the requirement that the keys are unique (within one dictionary).  Placing a comma-separated list of key:value pairs within {} adds initial key:value pairs to the dictionary; This is also the way dictionaries are displayed when on output by Python. Dictionaries are used for storing a value with some key and extracting that value given the key. It is also possible to delete a key:value pair with del function. [2]"
   ]
  },
  {
   "cell_type": "code",
   "execution_count": 2,
   "metadata": {},
   "outputs": [
    {
     "name": "stdout",
     "output_type": "stream",
     "text": [
      "5\n",
      "2\n",
      "{'a': 5, 'b': 4, 'd': 2, 'e': 1, 'f': 0}\n"
     ]
    }
   ],
   "source": [
    "__Dict__ = {\"a\":5, \"b\":4, \"c\":3, \"d\":2, \"e\":1, \"f\":0}\n",
    "print(__Dict__[\"a\"]) # returns value for key \"a\"\n",
    "print(__Dict__[\"d\"]) # returns value for key \"d\"\n",
    "del __Dict__[\"c\"] # deletes \"c\" key\n",
    "print(__Dict__) # print new dictionary with \"c\" entry removed"
   ]
  },
  {
   "cell_type": "markdown",
   "metadata": {},
   "source": [
    "### Task 1 - Input a list"
   ]
  },
  {
   "cell_type": "code",
   "execution_count": 3,
   "metadata": {},
   "outputs": [
    {
     "name": "stdout",
     "output_type": "stream",
     "text": [
      "Please enter a list of elements seperated by a space: A B B B C D D E G 2 5 G\n",
      "here is your list ['A', 'B', 'B', 'B', 'C', 'D', 'D', 'E', 'G', '2', '5', 'G']\n"
     ]
    }
   ],
   "source": [
    "# https://pynative.com/python-accept-list-input-from-user/ how to accept user input of list in Python\n",
    "# First create an empty list\n",
    "user_list = input(\"Please enter a list of elements seperated by a space: \")\n",
    "\n",
    "list = []\n",
    "list = user_list.split()\n",
    "print(\"here is your list\", list)\n"
   ]
  },
  {
   "cell_type": "markdown",
   "metadata": {},
   "source": [
    "#### Creating the \"Counts\" Function"
   ]
  },
  {
   "cell_type": "code",
   "execution_count": 4,
   "metadata": {},
   "outputs": [],
   "source": [
    "# https://www.geeksforgeeks.org/python-count-occurrences-element-list/ - Count occurrences of an element in a list\n",
    "# Next create a function to count occurences and return a dictionary of unique items in the list as keys and the number of\n",
    "# times each item appears as values.\n",
    "def counts(list):\n",
    "    list_count = {}\n",
    "    for element in list:\n",
    "        if element in list_count:\n",
    "            list_count[element] += 1\n",
    "        else:\n",
    "            list_count[element] = 1\n",
    "    return list_count"
   ]
  },
  {
   "cell_type": "markdown",
   "metadata": {},
   "source": [
    "#### Calling the function on the inputed list. The output is a python dictionary"
   ]
  },
  {
   "cell_type": "code",
   "execution_count": 5,
   "metadata": {},
   "outputs": [
    {
     "data": {
      "text/plain": [
       "{'A': 1, 'B': 3, 'C': 1, 'D': 2, 'E': 1, 'G': 2, '2': 1, '5': 1}"
      ]
     },
     "execution_count": 5,
     "metadata": {},
     "output_type": "execute_result"
    }
   ],
   "source": [
    "counts(list)"
   ]
  },
  {
   "cell_type": "markdown",
   "metadata": {},
   "source": [
    "### References\n",
    "[1] Real Python; https://realpython.com/python-lists-tuples/\n",
    "[2] Python documentation; https://docs.python.org/3/tutorial/datastructures.html#dictionaries"
   ]
  }
 ],
 "metadata": {
  "kernelspec": {
   "display_name": "Python 3",
   "language": "python",
   "name": "python3"
  },
  "language_info": {
   "codemirror_mode": {
    "name": "ipython",
    "version": 3
   },
   "file_extension": ".py",
   "mimetype": "text/x-python",
   "name": "python",
   "nbconvert_exporter": "python",
   "pygments_lexer": "ipython3",
   "version": "3.8.5"
  }
 },
 "nbformat": 4,
 "nbformat_minor": 4
}
