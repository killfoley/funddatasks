{
 "cells": [
  {
   "cell_type": "markdown",
   "metadata": {},
   "source": [
    "# Tasks 2020\n",
    "### Fundamentals of Data Analysis\n",
    "#### Killian Foley\n",
    "This Notebook contains the scripts for all 4 tasks in the module Fundamentals of Data Analysis.\n",
    "The first task is to write a Python function called counts that takes a list as input and returns a dictionary of unique items in the list as keys and the number of times each item appears as values."
   ]
  },
  {
   "cell_type": "code",
   "execution_count": 4,
   "metadata": {},
   "outputs": [
    {
     "name": "stdout",
     "output_type": "stream",
     "text": [
      "Please enter a list of elements seperated by a space: A A B A C V A N\n",
      "here is your list ['A', 'A', 'B', 'A', 'C', 'V', 'A', 'N']\n"
     ]
    }
   ],
   "source": [
    "# https://pynative.com/python-accept-list-input-from-user/ how to accept user input of list in Python\n",
    "#First create an empty list\n",
    "user_list = input(\"Please enter a list of elements seperated by a space: \")\n",
    "\n",
    "list = []\n",
    "list = user_list.split()\n",
    "print(\"here is your list\", list)\n"
   ]
  },
  {
   "cell_type": "code",
   "execution_count": 5,
   "metadata": {},
   "outputs": [],
   "source": [
    "# Dataquest documentation\n",
    "def counts(list):\n",
    "    list_count = {}\n",
    "    for element in list:\n",
    "        if element in list_count:\n",
    "            list_count[element] += 1\n",
    "        else:\n",
    "            list_count[element] = 1\n",
    "    return list_count"
   ]
  },
  {
   "cell_type": "code",
   "execution_count": 6,
   "metadata": {},
   "outputs": [
    {
     "data": {
      "text/plain": [
       "{'A': 4, 'B': 1, 'C': 1, 'V': 1, 'N': 1}"
      ]
     },
     "execution_count": 6,
     "metadata": {},
     "output_type": "execute_result"
    }
   ],
   "source": [
    "counts(list)"
   ]
  },
  {
   "cell_type": "code",
   "execution_count": null,
   "metadata": {},
   "outputs": [],
   "source": []
  }
 ],
 "metadata": {
  "kernelspec": {
   "display_name": "Python 3",
   "language": "python",
   "name": "python3"
  },
  "language_info": {
   "codemirror_mode": {
    "name": "ipython",
    "version": 3
   },
   "file_extension": ".py",
   "mimetype": "text/x-python",
   "name": "python",
   "nbconvert_exporter": "python",
   "pygments_lexer": "ipython3",
   "version": "3.8.3"
  }
 },
 "nbformat": 4,
 "nbformat_minor": 4
}
